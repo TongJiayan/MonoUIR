{
 "cells": [
  {
   "cell_type": "code",
   "execution_count": 55,
   "id": "6901be8c",
   "metadata": {},
   "outputs": [
    {
     "ename": "LibRawFileUnsupportedError",
     "evalue": "b'Unsupported file format or not RAW file'",
     "output_type": "error",
     "traceback": [
      "\u001b[0;31m---------------------------------------------------------------------------\u001b[0m",
      "\u001b[0;31mLibRawFileUnsupportedError\u001b[0m                Traceback (most recent call last)",
      "\u001b[0;32m<ipython-input-55-5a83e7fc4de8>\u001b[0m in \u001b[0;36m<module>\u001b[0;34m\u001b[0m\n\u001b[1;32m      3\u001b[0m \u001b[0;32mimport\u001b[0m \u001b[0mrawpy\u001b[0m\u001b[0;34m\u001b[0m\u001b[0;34m\u001b[0m\u001b[0m\n\u001b[1;32m      4\u001b[0m \u001b[0;34m\u001b[0m\u001b[0m\n\u001b[0;32m----> 5\u001b[0;31m \u001b[0mimg\u001b[0m \u001b[0;34m=\u001b[0m \u001b[0mImage\u001b[0m\u001b[0;34m.\u001b[0m\u001b[0mfromarray\u001b[0m\u001b[0;34m(\u001b[0m\u001b[0mrawpy\u001b[0m\u001b[0;34m.\u001b[0m\u001b[0mimread\u001b[0m\u001b[0;34m(\u001b[0m\u001b[0;34m'592_img_.png'\u001b[0m\u001b[0;34m)\u001b[0m\u001b[0;34m.\u001b[0m\u001b[0mpostprocess\u001b[0m\u001b[0;34m(\u001b[0m\u001b[0;34m)\u001b[0m\u001b[0;34m)\u001b[0m\u001b[0;34m\u001b[0m\u001b[0;34m\u001b[0m\u001b[0m\n\u001b[0m\u001b[1;32m      6\u001b[0m \u001b[0mprint\u001b[0m\u001b[0;34m(\u001b[0m\u001b[0mtype\u001b[0m\u001b[0;34m(\u001b[0m\u001b[0mimg\u001b[0m\u001b[0;34m)\u001b[0m\u001b[0;34m)\u001b[0m\u001b[0;34m\u001b[0m\u001b[0;34m\u001b[0m\u001b[0m\n\u001b[1;32m      7\u001b[0m \u001b[0mimg\u001b[0m\u001b[0;34m=\u001b[0m\u001b[0mimg\u001b[0m\u001b[0;34m.\u001b[0m\u001b[0mresize\u001b[0m\u001b[0;34m(\u001b[0m\u001b[0;34m(\u001b[0m\u001b[0;36m640\u001b[0m\u001b[0;34m,\u001b[0m\u001b[0;36m480\u001b[0m\u001b[0;34m)\u001b[0m\u001b[0;34m)\u001b[0m \u001b[0;31m#不能用thumbnail，只做了固定长宽比的缩放\u001b[0m\u001b[0;34m\u001b[0m\u001b[0;34m\u001b[0m\u001b[0m\n",
      "\u001b[0;32m~/.conda/envs/denseDepth/lib/python3.6/site-packages/rawpy/__init__.py\u001b[0m in \u001b[0;36mimread\u001b[0;34m(pathOrFile)\u001b[0m\n\u001b[1;32m     18\u001b[0m         \u001b[0md\u001b[0m\u001b[0;34m.\u001b[0m\u001b[0mopen_buffer\u001b[0m\u001b[0;34m(\u001b[0m\u001b[0mpathOrFile\u001b[0m\u001b[0;34m)\u001b[0m\u001b[0;34m\u001b[0m\u001b[0;34m\u001b[0m\u001b[0m\n\u001b[1;32m     19\u001b[0m     \u001b[0;32melse\u001b[0m\u001b[0;34m:\u001b[0m\u001b[0;34m\u001b[0m\u001b[0;34m\u001b[0m\u001b[0m\n\u001b[0;32m---> 20\u001b[0;31m         \u001b[0md\u001b[0m\u001b[0;34m.\u001b[0m\u001b[0mopen_file\u001b[0m\u001b[0;34m(\u001b[0m\u001b[0mpathOrFile\u001b[0m\u001b[0;34m)\u001b[0m\u001b[0;34m\u001b[0m\u001b[0;34m\u001b[0m\u001b[0m\n\u001b[0m\u001b[1;32m     21\u001b[0m     \u001b[0;32mreturn\u001b[0m \u001b[0md\u001b[0m\u001b[0;34m\u001b[0m\u001b[0;34m\u001b[0m\u001b[0m\n",
      "\u001b[0;32mrawpy/_rawpy.pyx\u001b[0m in \u001b[0;36mrawpy._rawpy.RawPy.open_file\u001b[0;34m()\u001b[0m\n",
      "\u001b[0;32mrawpy/_rawpy.pyx\u001b[0m in \u001b[0;36mrawpy._rawpy.RawPy.handle_error\u001b[0;34m()\u001b[0m\n",
      "\u001b[0;31mLibRawFileUnsupportedError\u001b[0m: b'Unsupported file format or not RAW file'"
     ]
    }
   ],
   "source": [
    "from PIL import Image\n",
    "import imageio\n",
    "import rawpy\n",
    "\n",
    "img = Image.fromarray(rawpy.imread('LFT_3378.NEF').postprocess())\n",
    "print(type(img))\n",
    "img=img.resize((640,480)) #不能用thumbnail，只做了固定长宽比的缩放\n",
    "imageio.imsave('LFT_3378.png', img)"
   ]
  },
  {
   "cell_type": "code",
   "execution_count": 61,
   "id": "593731c6",
   "metadata": {},
   "outputs": [],
   "source": [
    "from PIL import Image\n",
    "img = Image.open('906_img_.png')\n",
    "img = img.resize((640,480))\n",
    "imageio.imsave('906_img_.png',img)"
   ]
  },
  {
   "cell_type": "code",
   "execution_count": null,
   "id": "aa59a80c",
   "metadata": {},
   "outputs": [],
   "source": []
  }
 ],
 "metadata": {
  "kernelspec": {
   "display_name": "denseDepth",
   "language": "python",
   "name": "densedepth"
  },
  "language_info": {
   "codemirror_mode": {
    "name": "ipython",
    "version": 3
   },
   "file_extension": ".py",
   "mimetype": "text/x-python",
   "name": "python",
   "nbconvert_exporter": "python",
   "pygments_lexer": "ipython3",
   "version": "3.6.10"
  }
 },
 "nbformat": 4,
 "nbformat_minor": 5
}
