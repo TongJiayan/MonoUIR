{
 "cells": [
  {
   "cell_type": "code",
   "execution_count": 31,
   "id": "6901be8c",
   "metadata": {},
   "outputs": [
    {
     "name": "stdout",
     "output_type": "stream",
     "text": [
      "<class 'PIL.Image.Image'>\n"
     ]
    }
   ],
   "source": [
    "from PIL import Image\n",
    "import imageio\n",
    "import rawpy\n",
    "\n",
    "img = Image.fromarray(rawpy.imread('592_img_.png').postprocess())\n",
    "print(type(img))\n",
    "img=img.resize((640,480)) #不能用thumbnail，只做了固定长宽比的缩放\n",
    "imageio.imsave('592_img_.png', img)"
   ]
  },
  {
   "cell_type": "code",
   "execution_count": 12,
   "id": "593731c6",
   "metadata": {},
   "outputs": [],
   "source": []
  },
  {
   "cell_type": "code",
   "execution_count": null,
   "id": "aa59a80c",
   "metadata": {},
   "outputs": [],
   "source": []
  }
 ],
 "metadata": {
  "kernelspec": {
   "display_name": "denseDepth",
   "language": "python",
   "name": "densedepth"
  },
  "language_info": {
   "codemirror_mode": {
    "name": "ipython",
    "version": 3
   },
   "file_extension": ".py",
   "mimetype": "text/x-python",
   "name": "python",
   "nbconvert_exporter": "python",
   "pygments_lexer": "ipython3",
   "version": "3.6.10"
  }
 },
 "nbformat": 4,
 "nbformat_minor": 5
}
